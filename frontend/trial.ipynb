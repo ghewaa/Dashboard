{
 "cells": [
  {
   "cell_type": "code",
   "execution_count": 1,
   "metadata": {},
   "outputs": [],
   "source": [
    "import pandas as pd \n",
    "import os\n",
    "import csv"
   ]
  },
  {
   "cell_type": "code",
   "execution_count": 2,
   "metadata": {},
   "outputs": [
    {
     "name": "stderr",
     "output_type": "stream",
     "text": [
      "/tmp/ipykernel_15363/1997060286.py:1: DtypeWarning: Columns (0) have mixed types. Specify dtype option on import or set low_memory=False.\n",
      "  df = pd.read_csv('Merged_FoodProducts_20182021_longformat.csv')\n"
     ]
    }
   ],
   "source": [
    "df = pd.read_csv('Merged_FoodProducts_20182021_longformat.csv')"
   ]
  },
  {
   "cell_type": "code",
   "execution_count": 3,
   "metadata": {},
   "outputs": [
    {
     "name": "stdout",
     "output_type": "stream",
     "text": [
      "ean                   object\n",
      "year                   int64\n",
      "id2021               float64\n",
      "name2021              object\n",
      "created2021           object\n",
      "updated2021           object\n",
      "brand2021             object\n",
      "category2021          object\n",
      "calories2021         float64\n",
      "carbohydrates2021    float64\n",
      "sugar2021            float64\n",
      "fat2021              float64\n",
      "saturatedfat2021     float64\n",
      "proteins2021         float64\n",
      "fibers2021           float64\n",
      "sodium2021           float64\n",
      "fruits2021           float64\n",
      "bio2021              float64\n",
      "ingredients2021       object\n",
      "Categories            object\n",
      "Nutrigrade2021        object\n",
      "id                   float64\n",
      "name                  object\n",
      "updated               object\n",
      "created               object\n",
      "brand                 object\n",
      "category              object\n",
      "calories             float64\n",
      "carbohydrates        float64\n",
      "sugar                float64\n",
      "fat                  float64\n",
      "saturatedfat         float64\n",
      "proteins             float64\n",
      "fibers               float64\n",
      "sodium               float64\n",
      "fruits               float64\n",
      "bio                  float64\n",
      "ingredients_list      object\n",
      "Nutrigrade            object\n",
      "_merge                object\n",
      "grade                float64\n",
      "Nutriscore           float64\n",
      "dtype: object\n"
     ]
    }
   ],
   "source": [
    "df['ean'] = df['ean'].astype(str)\n",
    "print(df.dtypes)"
   ]
  },
  {
   "cell_type": "code",
   "execution_count": 4,
   "metadata": {},
   "outputs": [
    {
     "data": {
      "text/plain": [
       "array(['Others', 'Diary Products', 'Cereals, Biscuits and Chocolates',\n",
       "       'Meat', 'Cereals', 'Beverages', 'AlcoholicBeverages', 'Water'],\n",
       "      dtype=object)"
      ]
     },
     "execution_count": 4,
     "metadata": {},
     "output_type": "execute_result"
    }
   ],
   "source": [
    "unique_categories = df['Categories'].unique()\n",
    "unique_categories"
   ]
  },
  {
   "cell_type": "code",
   "execution_count": 5,
   "metadata": {},
   "outputs": [],
   "source": [
    "# df['Categories'] = df['Categories'].replace('Meat', 'meat')\n",
    "# df['Categories'] = df['Categories'].replace('Cereals, Biscuits and Chocolates', 'cereals')\n",
    "df['Categories'] = df['Categories'].replace('Cereals', 'Cereals, Biscuits and Chocolates')\n",
    "# df['Categories'] = df['Categories'].replace('Diary Products', 'diary')\n",
    "# df['Categories'] = df['Categories'].replace('Beverages', 'beverages')"
   ]
  },
  {
   "cell_type": "code",
   "execution_count": 6,
   "metadata": {},
   "outputs": [
    {
     "name": "stdout",
     "output_type": "stream",
     "text": [
      "Index(['ean', 'year', 'id2021', 'name2021', 'created2021', 'updated2021',\n",
      "       'brand2021', 'category2021', 'calories2021', 'carbohydrates2021',\n",
      "       'sugar2021', 'fat2021', 'saturatedfat2021', 'proteins2021',\n",
      "       'fibers2021', 'sodium2021', 'fruits2021', 'bio2021', 'ingredients2021',\n",
      "       'Categories', 'Nutrigrade2021', 'id', 'name', 'updated', 'created',\n",
      "       'brand', 'category', 'calories', 'carbohydrates', 'sugar', 'fat',\n",
      "       'saturatedfat', 'proteins', 'fibers', 'sodium', 'fruits', 'bio',\n",
      "       'ingredients_list', 'Nutrigrade', 'presence', 'grade', 'Nutriscore'],\n",
      "      dtype='object')\n"
     ]
    }
   ],
   "source": [
    "df.rename(columns={'_merge': 'presence'}, inplace=True)\n",
    "print(df.columns)"
   ]
  },
  {
   "cell_type": "code",
   "execution_count": 7,
   "metadata": {},
   "outputs": [],
   "source": [
    "df['presence'] = df['presence'].replace('Matched (3)', 'both')\n",
    "df['presence'] = df['presence'].replace('Master only (1)', 'Only2021')\n",
    "df['presence'] = df['presence'].replace('Using only (2)', 'Only2018')"
   ]
  },
  {
   "cell_type": "code",
   "execution_count": 8,
   "metadata": {},
   "outputs": [],
   "source": [
    "df.to_csv('modified_data.csv', index=False)"
   ]
  },
  {
   "cell_type": "code",
   "execution_count": 9,
   "metadata": {},
   "outputs": [
    {
     "name": "stderr",
     "output_type": "stream",
     "text": [
      "/tmp/ipykernel_15363/2843002133.py:1: DtypeWarning: Columns (0) have mixed types. Specify dtype option on import or set low_memory=False.\n",
      "  df1 = pd.read_csv(\"modified_data.csv\")\n"
     ]
    }
   ],
   "source": [
    "df1 = pd.read_csv(\"modified_data.csv\")\n",
    "df2 = pd.read_csv(\"Nb_of_scans.csv\")"
   ]
  },
  {
   "cell_type": "code",
   "execution_count": 10,
   "metadata": {},
   "outputs": [
    {
     "name": "stdout",
     "output_type": "stream",
     "text": [
      "ean          object\n",
      "num_scans     int64\n",
      "dtype: object\n"
     ]
    }
   ],
   "source": [
    "df2['ean'] = df2['ean'].astype(str)\n",
    "print(df2.dtypes)"
   ]
  },
  {
   "cell_type": "code",
   "execution_count": 11,
   "metadata": {},
   "outputs": [],
   "source": [
    "# Merge the datasets on the common column 'student_id'\n",
    "merged_df = pd.merge(df1, df2, on='ean')\n",
    "merged_df.rename(columns={'num_scans': 'scan_count'}, inplace=True)"
   ]
  },
  {
   "cell_type": "code",
   "execution_count": 12,
   "metadata": {},
   "outputs": [
    {
     "name": "stderr",
     "output_type": "stream",
     "text": [
      "Bad pipe message: %s [b'36%2Ct%3D3%2Cp%3D4%24Cgxb%2F3%2BGugzuWCC9c0t93Q%24%2', b'CPCpsJoj3ENao39qs6Nkir%2F1GEexhhcILAIxwLxWA\\r\\npriority: u=0, i\\r\\naccept', b'anguage: fr-FR,fr;q=0.9,en-US;q=0.8,en;q=0.7']\n",
      "Bad pipe message: %s [b'accept-encod']\n",
      "Bad pipe message: %s [b'g: gzip, deflate, br, zstd\\r\\nreferer: https://user-az0-863873-0.user.lab.sspcloud.fr/?folder=/home/onyxia']\n",
      "Bad pipe message: %s [b'ork\\r\\nsec-fetch-dest: document\\r\\nsec-fetch-user:', b'1\\r\\nsec-fetch-mode: navigate\\r\\nse', b'fetch-site: same-origin\\r\\naccept: text/html,application/xhtml+xml,application/xml;q=0.9,image/avif,', b'age/webp,image/apng,*/*;q=0.8,application/signed-exchange;v=b3;q=0.7\\r\\nuser-agent: Mozilla/5.0 (Windows N', b'10.0; Win64; x64) AppleWebKit/537.36 (KHTML, like Gecko) Chrome/125.0.0.0 Safari/53']\n",
      "Bad pipe message: %s [b'36\\r\\nupgrade-insecure-requests: 1\\r\\nsec-ch-ua-platform: ']\n",
      "Bad pipe message: %s [b'indows\"\\r\\nsec-ch-ua-mobile: ?0\\r\\nse', b'ch-ua: \"Google Chrome\";v=\"125\", \"Chromium\";v=\"125\", \"Not.A/Brand\";v=\"24\"\\r\\nx-scheme: https\\r\\nx-forwa', b'ed-scheme: https\\r\\nx-forwarded-proto: https\\r\\nx-forwarded-port: 443\\r\\nx-forwarded-host: user-az0-863873-0.user.lab.s']\n",
      "Bad pipe message: %s [b'cloud.fr\\r\\nx-forwarded-for: 195.221.82.2\\r\\nx-real-ip: 195.221.82.2\\r\\nx-request-id: be23ddce6694f57214d3233ee9d51fea\\r\\n']\n"
     ]
    }
   ],
   "source": [
    "merged_df.to_csv('modified_data.csv', index=False)"
   ]
  }
 ],
 "metadata": {
  "kernelspec": {
   "display_name": "base",
   "language": "python",
   "name": "python3"
  },
  "language_info": {
   "codemirror_mode": {
    "name": "ipython",
    "version": 3
   },
   "file_extension": ".py",
   "mimetype": "text/x-python",
   "name": "python",
   "nbconvert_exporter": "python",
   "pygments_lexer": "ipython3",
   "version": "3.12.3"
  }
 },
 "nbformat": 4,
 "nbformat_minor": 2
}
